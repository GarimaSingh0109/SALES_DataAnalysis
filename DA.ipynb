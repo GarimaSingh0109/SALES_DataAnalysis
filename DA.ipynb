{
  "nbformat": 4,
  "nbformat_minor": 0,
  "metadata": {
    "colab": {
      "provenance": [],
      "authorship_tag": "ABX9TyMPXmM/LdHTGj41BvMJSma9",
      "include_colab_link": true
    },
    "kernelspec": {
      "name": "python3",
      "display_name": "Python 3"
    },
    "language_info": {
      "name": "python"
    }
  },
  "cells": [
    {
      "cell_type": "markdown",
      "metadata": {
        "id": "view-in-github",
        "colab_type": "text"
      },
      "source": [
        "<a href=\"https://colab.research.google.com/github/GarimaSingh0109/SALES_DataAnalysis/blob/main/DA.ipynb\" target=\"_parent\"><img src=\"https://colab.research.google.com/assets/colab-badge.svg\" alt=\"Open In Colab\"/></a>"
      ]
    },
    {
      "cell_type": "code",
      "execution_count": null,
      "metadata": {
        "colab": {
          "base_uri": "https://localhost:8080/"
        },
        "id": "G8tSIqi86H2j",
        "outputId": "c9409377-ceea-4b53-a089-edef9a3c0f2b"
      },
      "outputs": [
        {
          "output_type": "stream",
          "name": "stdout",
          "text": [
            "Enter numbers separated by space: 2 3 6 4 33 7 87  44 12 \n",
            "MAX: 87.0\n",
            "MIN: 2.0\n",
            "AVG: 22.0\n",
            "SUM: 198.0\n",
            "SQRT of each number: [1.4142135623730951, 1.7320508075688772, 2.449489742783178, 2.0, 5.744562646538029, 2.6457513110645907, 9.327379053088816, 6.6332495807108, 3.4641016151377544]\n",
            "Rounded values: [2, 3, 6, 4, 33, 7, 87, 44, 12]\n"
          ]
        }
      ],
      "source": [
        "import math\n",
        "\n",
        "# Get user input as a list of numbers\n",
        "nums = list(map(float, input(\"Enter numbers separated by space: \").split()))\n",
        "\n",
        "print(\"MAX:\", max(nums))\n",
        "print(\"MIN:\", min(nums))\n",
        "print(\"AVG:\", sum(nums)/len(nums))\n",
        "print(\"SUM:\", sum(nums))\n",
        "print(\"SQRT of each number:\", [math.sqrt(n) for n in nums])\n",
        "print(\"Rounded values:\", [round(n) for n in nums])\n"
      ]
    },
    {
      "cell_type": "code",
      "source": [
        "from sklearn.preprocessing import MinMaxScaler\n",
        "import numpy as np\n",
        "import pandas as pd\n",
        "# Handling missing data\n",
        "df = pd.read_csv('/content/sales.csv')\n",
        "print(\"Original Data:\\n\", df.head())"
      ],
      "metadata": {
        "colab": {
          "base_uri": "https://localhost:8080/"
        },
        "id": "IHVXo7Gv9cJp",
        "outputId": "eeaac033-cda7-4e44-c7b2-dab10ff361c4"
      },
      "execution_count": null,
      "outputs": [
        {
          "output_type": "stream",
          "name": "stdout",
          "text": [
            "Original Data:\n",
            "    ORDERNUMBER  QUANTITYORDERED  PRICEEACH  ORDERLINENUMBER    SALES  \\\n",
            "0      10107.0             30.0      95.70              2.0  2871.00   \n",
            "1      10121.0             34.0      81.35              5.0  2765.90   \n",
            "2      10134.0             41.0      94.74              2.0  3884.34   \n",
            "3      10145.0             45.0      83.26              6.0  3746.70   \n",
            "4      10168.0             36.0      96.66              1.0  3479.76   \n",
            "\n",
            "    ORDERDATE  DAYS_SINCE_LASTORDER   STATUS  PRODUCTLINE  MSRP PRODUCTCODE  \\\n",
            "0  24-02-2018                 828.0  Shipped  Motorcycles  95.0    S10_1678   \n",
            "1  07-05-2018                 757.0  Shipped  Motorcycles  95.0    S10_1678   \n",
            "2  01-07-2018                 703.0  Shipped  Motorcycles  95.0    S10_1678   \n",
            "3  25-08-2018                 649.0  Shipped  Motorcycles  95.0    S10_1678   \n",
            "4  28-10-2018                 586.0  Shipped  Motorcycles  95.0    S10_1678   \n",
            "\n",
            "           CUSTOMERNAME             PHONE                   ADDRESSLINE1  \\\n",
            "0     Land of Toys Inc.        2125557818        897 Long Airport Avenue   \n",
            "1    Reims Collectables        26.47.1555             59 rue de l'Abbaye   \n",
            "2       Lyon Souveniers  +33 1 46 62 7555  27 rue du Colonel Pierre Avia   \n",
            "3     Toys4GrownUps.com        6265557265             78934 Hillside Dr.   \n",
            "4  Technics Stores Inc.        6505556809              9408 Furth Circle   \n",
            "\n",
            "         CITY POSTALCODE COUNTRY CONTACTLASTNAME CONTACTFIRSTNAME DEALSIZE  \n",
            "0         NYC      10022     USA              Yu             Kwai    Small  \n",
            "1       Reims      51100  France         Henriot             Paul    Small  \n",
            "2       Paris      75508  France        Da Cunha           Daniel   Medium  \n",
            "3    Pasadena      90003     USA           Young            Julie   Medium  \n",
            "4  Burlingame      94217     USA          Hirano             Juri   Medium  \n"
          ]
        }
      ]
    },
    {
      "cell_type": "code",
      "source": [
        "from sklearn.preprocessing import MinMaxScaler\n",
        "import numpy as np\n",
        "import pandas as pd\n",
        "# Handling missing data\n",
        "df = pd.read_csv('/content/sales.csv')\n",
        "print(\"Original Data:\\n\", df.head())\n",
        "# Fill missing values (you can also use .dropna())\n",
        "df_filled = df.fillna(df.mean(numeric_only=True))\n",
        "print(\"After Filling Missing Data:\\n\", df_filled.head())"
      ],
      "metadata": {
        "colab": {
          "base_uri": "https://localhost:8080/"
        },
        "id": "hfLIVmfM92yY",
        "outputId": "f47cba7c-3a28-4304-d25e-3bdc6b0c4eb0"
      },
      "execution_count": null,
      "outputs": [
        {
          "output_type": "stream",
          "name": "stdout",
          "text": [
            "Original Data:\n",
            "    ORDERNUMBER  QUANTITYORDERED  PRICEEACH  ORDERLINENUMBER    SALES  \\\n",
            "0      10107.0             30.0      95.70              2.0  2871.00   \n",
            "1      10121.0             34.0      81.35              5.0  2765.90   \n",
            "2      10134.0             41.0      94.74              2.0  3884.34   \n",
            "3      10145.0             45.0      83.26              6.0  3746.70   \n",
            "4      10168.0             36.0      96.66              1.0  3479.76   \n",
            "\n",
            "    ORDERDATE  DAYS_SINCE_LASTORDER   STATUS  PRODUCTLINE  MSRP PRODUCTCODE  \\\n",
            "0  24-02-2018                 828.0  Shipped  Motorcycles  95.0    S10_1678   \n",
            "1  07-05-2018                 757.0  Shipped  Motorcycles  95.0    S10_1678   \n",
            "2  01-07-2018                 703.0  Shipped  Motorcycles  95.0    S10_1678   \n",
            "3  25-08-2018                 649.0  Shipped  Motorcycles  95.0    S10_1678   \n",
            "4  28-10-2018                 586.0  Shipped  Motorcycles  95.0    S10_1678   \n",
            "\n",
            "           CUSTOMERNAME             PHONE                   ADDRESSLINE1  \\\n",
            "0     Land of Toys Inc.        2125557818        897 Long Airport Avenue   \n",
            "1    Reims Collectables        26.47.1555             59 rue de l'Abbaye   \n",
            "2       Lyon Souveniers  +33 1 46 62 7555  27 rue du Colonel Pierre Avia   \n",
            "3     Toys4GrownUps.com        6265557265             78934 Hillside Dr.   \n",
            "4  Technics Stores Inc.        6505556809              9408 Furth Circle   \n",
            "\n",
            "         CITY POSTALCODE COUNTRY CONTACTLASTNAME CONTACTFIRSTNAME DEALSIZE  \n",
            "0         NYC      10022     USA              Yu             Kwai    Small  \n",
            "1       Reims      51100  France         Henriot             Paul    Small  \n",
            "2       Paris      75508  France        Da Cunha           Daniel   Medium  \n",
            "3    Pasadena      90003     USA           Young            Julie   Medium  \n",
            "4  Burlingame      94217     USA          Hirano             Juri   Medium  \n",
            "After Filling Missing Data:\n",
            "    ORDERNUMBER  QUANTITYORDERED  PRICEEACH  ORDERLINENUMBER    SALES  \\\n",
            "0      10107.0             30.0      95.70              2.0  2871.00   \n",
            "1      10121.0             34.0      81.35              5.0  2765.90   \n",
            "2      10134.0             41.0      94.74              2.0  3884.34   \n",
            "3      10145.0             45.0      83.26              6.0  3746.70   \n",
            "4      10168.0             36.0      96.66              1.0  3479.76   \n",
            "\n",
            "    ORDERDATE  DAYS_SINCE_LASTORDER   STATUS  PRODUCTLINE  MSRP PRODUCTCODE  \\\n",
            "0  24-02-2018                 828.0  Shipped  Motorcycles  95.0    S10_1678   \n",
            "1  07-05-2018                 757.0  Shipped  Motorcycles  95.0    S10_1678   \n",
            "2  01-07-2018                 703.0  Shipped  Motorcycles  95.0    S10_1678   \n",
            "3  25-08-2018                 649.0  Shipped  Motorcycles  95.0    S10_1678   \n",
            "4  28-10-2018                 586.0  Shipped  Motorcycles  95.0    S10_1678   \n",
            "\n",
            "           CUSTOMERNAME             PHONE                   ADDRESSLINE1  \\\n",
            "0     Land of Toys Inc.        2125557818        897 Long Airport Avenue   \n",
            "1    Reims Collectables        26.47.1555             59 rue de l'Abbaye   \n",
            "2       Lyon Souveniers  +33 1 46 62 7555  27 rue du Colonel Pierre Avia   \n",
            "3     Toys4GrownUps.com        6265557265             78934 Hillside Dr.   \n",
            "4  Technics Stores Inc.        6505556809              9408 Furth Circle   \n",
            "\n",
            "         CITY POSTALCODE COUNTRY CONTACTLASTNAME CONTACTFIRSTNAME DEALSIZE  \n",
            "0         NYC      10022     USA              Yu             Kwai    Small  \n",
            "1       Reims      51100  France         Henriot             Paul    Small  \n",
            "2       Paris      75508  France        Da Cunha           Daniel   Medium  \n",
            "3    Pasadena      90003     USA           Young            Julie   Medium  \n",
            "4  Burlingame      94217     USA          Hirano             Juri   Medium  \n"
          ]
        }
      ]
    },
    {
      "cell_type": "code",
      "source": [
        "from sklearn.preprocessing import MinMaxScaler\n",
        "import numpy as np\n",
        "import pandas as pd\n",
        "# Handling missing data\n",
        "df = pd.read_csv('/content/sales.csv')\n",
        "print(\"Original Data:\\n\", df.head())\n",
        "# Fill missing values (you can also use .dropna())\n",
        "df_filled = df.fillna(df.mean(numeric_only=True))\n",
        "print(\"After Filling Missing Data:\\n\", df_filled.head())\n",
        "# Min-Max Normalization\n",
        "scaler = MinMaxScaler()\n",
        "normalized_data = scaler.fit_transform(df_filled.select_dtypes(include=[np.number]))\n",
        "\n",
        "df_normalized = pd.DataFrame(normalized_data, columns=df_filled.select_dtypes(include=[np.number]).columns)\n",
        "print(\"Normalized Data:\\n\", df_normalized.head())"
      ],
      "metadata": {
        "colab": {
          "base_uri": "https://localhost:8080/"
        },
        "id": "FLBgOixN-G2g",
        "outputId": "a6f11aee-8234-4d4f-ccaa-8775797ea4a7"
      },
      "execution_count": null,
      "outputs": [
        {
          "output_type": "stream",
          "name": "stdout",
          "text": [
            "Original Data:\n",
            "    ORDERNUMBER  QUANTITYORDERED  PRICEEACH  ORDERLINENUMBER    SALES  \\\n",
            "0      10107.0             30.0      95.70              2.0  2871.00   \n",
            "1      10121.0             34.0      81.35              5.0  2765.90   \n",
            "2      10134.0             41.0      94.74              2.0  3884.34   \n",
            "3      10145.0             45.0      83.26              6.0  3746.70   \n",
            "4      10168.0             36.0      96.66              1.0  3479.76   \n",
            "\n",
            "    ORDERDATE  DAYS_SINCE_LASTORDER   STATUS  PRODUCTLINE  MSRP PRODUCTCODE  \\\n",
            "0  24-02-2018                 828.0  Shipped  Motorcycles  95.0    S10_1678   \n",
            "1  07-05-2018                 757.0  Shipped  Motorcycles  95.0    S10_1678   \n",
            "2  01-07-2018                 703.0  Shipped  Motorcycles  95.0    S10_1678   \n",
            "3  25-08-2018                 649.0  Shipped  Motorcycles  95.0    S10_1678   \n",
            "4  28-10-2018                 586.0  Shipped  Motorcycles  95.0    S10_1678   \n",
            "\n",
            "           CUSTOMERNAME             PHONE                   ADDRESSLINE1  \\\n",
            "0     Land of Toys Inc.        2125557818        897 Long Airport Avenue   \n",
            "1    Reims Collectables        26.47.1555             59 rue de l'Abbaye   \n",
            "2       Lyon Souveniers  +33 1 46 62 7555  27 rue du Colonel Pierre Avia   \n",
            "3     Toys4GrownUps.com        6265557265             78934 Hillside Dr.   \n",
            "4  Technics Stores Inc.        6505556809              9408 Furth Circle   \n",
            "\n",
            "         CITY POSTALCODE COUNTRY CONTACTLASTNAME CONTACTFIRSTNAME DEALSIZE  \n",
            "0         NYC      10022     USA              Yu             Kwai    Small  \n",
            "1       Reims      51100  France         Henriot             Paul    Small  \n",
            "2       Paris      75508  France        Da Cunha           Daniel   Medium  \n",
            "3    Pasadena      90003     USA           Young            Julie   Medium  \n",
            "4  Burlingame      94217     USA          Hirano             Juri   Medium  \n",
            "After Filling Missing Data:\n",
            "    ORDERNUMBER  QUANTITYORDERED  PRICEEACH  ORDERLINENUMBER    SALES  \\\n",
            "0      10107.0             30.0      95.70              2.0  2871.00   \n",
            "1      10121.0             34.0      81.35              5.0  2765.90   \n",
            "2      10134.0             41.0      94.74              2.0  3884.34   \n",
            "3      10145.0             45.0      83.26              6.0  3746.70   \n",
            "4      10168.0             36.0      96.66              1.0  3479.76   \n",
            "\n",
            "    ORDERDATE  DAYS_SINCE_LASTORDER   STATUS  PRODUCTLINE  MSRP PRODUCTCODE  \\\n",
            "0  24-02-2018                 828.0  Shipped  Motorcycles  95.0    S10_1678   \n",
            "1  07-05-2018                 757.0  Shipped  Motorcycles  95.0    S10_1678   \n",
            "2  01-07-2018                 703.0  Shipped  Motorcycles  95.0    S10_1678   \n",
            "3  25-08-2018                 649.0  Shipped  Motorcycles  95.0    S10_1678   \n",
            "4  28-10-2018                 586.0  Shipped  Motorcycles  95.0    S10_1678   \n",
            "\n",
            "           CUSTOMERNAME             PHONE                   ADDRESSLINE1  \\\n",
            "0     Land of Toys Inc.        2125557818        897 Long Airport Avenue   \n",
            "1    Reims Collectables        26.47.1555             59 rue de l'Abbaye   \n",
            "2       Lyon Souveniers  +33 1 46 62 7555  27 rue du Colonel Pierre Avia   \n",
            "3     Toys4GrownUps.com        6265557265             78934 Hillside Dr.   \n",
            "4  Technics Stores Inc.        6505556809              9408 Furth Circle   \n",
            "\n",
            "         CITY POSTALCODE COUNTRY CONTACTLASTNAME CONTACTFIRSTNAME DEALSIZE  \n",
            "0         NYC      10022     USA              Yu             Kwai    Small  \n",
            "1       Reims      51100  France         Henriot             Paul    Small  \n",
            "2       Paris      75508  France        Da Cunha           Daniel   Medium  \n",
            "3    Pasadena      90003     USA           Young            Julie   Medium  \n",
            "4  Burlingame      94217     USA          Hirano             Juri   Medium  \n",
            "Normalized Data:\n",
            "    ORDERNUMBER  QUANTITYORDERED  PRICEEACH  ORDERLINENUMBER     SALES  \\\n",
            "0     0.021538         0.263736   0.304527         0.058824  0.175644   \n",
            "1     0.064615         0.307692   0.241028         0.235294  0.167916   \n",
            "2     0.104615         0.384615   0.300279         0.058824  0.250150   \n",
            "3     0.138462         0.428571   0.249480         0.294118  0.240030   \n",
            "4     0.209231         0.329670   0.308775         0.000000  0.220403   \n",
            "\n",
            "   DAYS_SINCE_LASTORDER      MSRP  \n",
            "0              0.000164  0.000225  \n",
            "1              0.000149  0.000225  \n",
            "2              0.000138  0.000225  \n",
            "3              0.000126  0.000225  \n",
            "4              0.000113  0.000225  \n"
          ]
        }
      ]
    },
    {
      "cell_type": "code",
      "source": [
        "import pandas as pd\n",
        "import numpy as np\n",
        "\n",
        "# Load the dataset\n",
        "df = pd.read_csv('/content/sales.csv')\n",
        "\n",
        "# Select only numeric columns\n",
        "numeric_df = df.select_dtypes(include=[np.number])\n",
        "\n",
        "# Drop rows with missing values (optional – or you can fill with mean/median)\n",
        "numeric_df = numeric_df.dropna()\n",
        "\n",
        "# Perform statistical operations column-wise\n",
        "for column in numeric_df.columns:\n",
        "    col_data = numeric_df[column]\n",
        "    print(f\"\\nColumn: {column}\")\n",
        "    print(\"Mean:\", np.mean(col_data))\n",
        "    print(\"Median:\", np.median(col_data))\n",
        "    print(\"Mode:\", col_data.mode().iloc[0])  # Taking the first mode if multiple\n",
        "    print(\"Standard Deviation:\", np.std(col_data, ddof=1))  # Sample std deviation\n"
      ],
      "metadata": {
        "colab": {
          "base_uri": "https://localhost:8080/"
        },
        "id": "oJnKIbDtA8yW",
        "outputId": "39dcd26b-0409-4a31-df66-1f5e31d026c1"
      },
      "execution_count": null,
      "outputs": [
        {
          "output_type": "stream",
          "name": "stdout",
          "text": [
            "\n",
            "Column: ORDERNUMBER\n",
            "Mean: 10259.761558063341\n",
            "Median: 10264.0\n",
            "Mode: 10106.0\n",
            "Standard Deviation: 91.87752071650719\n",
            "\n",
            "Column: QUANTITYORDERED\n",
            "Mean: 35.10302147797597\n",
            "Median: 35.0\n",
            "Mode: 34.0\n",
            "Standard Deviation: 9.76213542350501\n",
            "\n",
            "Column: PRICEEACH\n",
            "Mean: 101.09895158354568\n",
            "Median: 95.55\n",
            "Mode: 59.87\n",
            "Standard Deviation: 42.04254924789503\n",
            "\n",
            "Column: ORDERLINENUMBER\n",
            "Mean: 6.4910811794685115\n",
            "Median: 6.0\n",
            "Mode: 1.0\n",
            "Standard Deviation: 4.230543549164283\n",
            "\n",
            "Column: SALES\n",
            "Mean: 3553.0475828176195\n",
            "Median: 3184.8\n",
            "Mode: 1030.44\n",
            "Standard Deviation: 1838.9539005448687\n",
            "\n",
            "Column: DAYS_SINCE_LASTORDER\n",
            "Mean: 1757.085911903895\n",
            "Median: 1761.0\n",
            "Mode: 2207.0\n",
            "Standard Deviation: 819.2805762875169\n",
            "\n",
            "Column: MSRP\n",
            "Mean: 100.69166363305425\n",
            "Median: 99.0\n",
            "Mode: 118.0\n",
            "Standard Deviation: 40.11480174959149\n"
          ]
        }
      ]
    },
    {
      "cell_type": "code",
      "source": [
        "import pandas as pd\n",
        "import numpy as np\n",
        "\n",
        "# Load numeric data from the uploaded dataset\n",
        "df = pd.read_csv('/content/sales.csv')\n",
        "matrix = df.select_dtypes(include=[np.number]).dropna().values  # Convert to NumPy array\n",
        "\n",
        "# Ensure matrix is 2D and of compatible shape\n",
        "if matrix.shape[0] >= 3 and matrix.shape[1] >= 3:\n",
        "    # Use only first 3x3 part of matrix to ensure square matrix for inverse\n",
        "    matrix1 = matrix[:3, :3]\n",
        "    matrix2 = matrix[3:6, :3]  # next 3 rows for same shape\n",
        "else:\n",
        "    raise ValueError(\"Need at least 6 rows and 3 columns of numeric data.\")\n",
        "\n",
        "# Display the matrices\n",
        "print(\"Matrix 1:\\n\", matrix1)\n",
        "print(\"Matrix 2:\\n\", matrix2)\n",
        "\n",
        "# Matrix Operations\n",
        "print(\"\\nAddition:\\n\", matrix1 + matrix2)\n",
        "print(\"\\nSubtraction:\\n\", matrix1 - matrix2)\n",
        "print(\"\\nMultiplication (Matrix Dot Product):\\n\", np.dot(matrix1, matrix2.T))\n",
        "print(\"\\nTranspose of Matrix 1:\\n\", matrix1.T)\n",
        "\n",
        "# Inverse (only possible for square & non-singular matrix)\n",
        "try:\n",
        "    inverse = np.linalg.inv(matrix1)\n",
        "    print(\"\\nInverse of Matrix 1:\\n\", inverse)\n",
        "except np.linalg.LinAlgError:\n",
        "    print(\"\\nMatrix 1 is singular and cannot be inverted.\")\n",
        "\n",
        "# Element-wise Division (avoiding division by zero)\n",
        "with np.errstate(divide='ignore', invalid='ignore'):\n",
        "    division = np.true_divide(matrix1, matrix2)\n",
        "    division[np.isnan(division)] = 0  # Replace nan with 0\n",
        "    print(\"\\nElement-wise Division:\\n\", division)\n"
      ],
      "metadata": {
        "colab": {
          "base_uri": "https://localhost:8080/"
        },
        "id": "qEqMfjOVDZF7",
        "outputId": "ed187964-0801-4c86-cd40-960f72cd3975"
      },
      "execution_count": null,
      "outputs": [
        {
          "output_type": "stream",
          "name": "stdout",
          "text": [
            "Matrix 1:\n",
            " [[10107.      30.      95.7 ]\n",
            " [10121.      34.      81.35]\n",
            " [10134.      41.      94.74]]\n",
            "Matrix 2:\n",
            " [[10145.      45.      83.26]\n",
            " [10168.      36.      96.66]\n",
            " [10180.      29.      86.13]]\n",
            "\n",
            "Addition:\n",
            " [[20252.      75.     178.96]\n",
            " [20289.      70.     178.01]\n",
            " [20314.      70.     180.87]]\n",
            "\n",
            "Subtraction:\n",
            " [[-38.   -15.    12.44]\n",
            " [-47.    -2.   -15.31]\n",
            " [-46.    12.     8.61]]\n",
            "\n",
            "Multiplication (Matrix Dot Product):\n",
            " [[1.02544833e+08 1.02778306e+08 1.02898373e+08]\n",
            " [1.02685848e+08 1.02919415e+08 1.03039773e+08]\n",
            " [1.02819163e+08 1.03053146e+08 1.03173469e+08]]\n",
            "\n",
            "Transpose of Matrix 1:\n",
            " [[10107.   10121.   10134.  ]\n",
            " [   30.      34.      41.  ]\n",
            " [   95.7     81.35    94.74]]\n",
            "\n",
            "Inverse of Matrix 1:\n",
            " [[-7.36823305e-05  6.97849553e-04 -5.24790607e-04]\n",
            " [-8.67634704e-02 -7.92807422e-03  9.44502106e-02]\n",
            " [ 4.54295865e-02 -7.12154985e-02  2.58155940e-02]]\n",
            "\n",
            "Element-wise Division:\n",
            " [[0.99625431 0.66666667 1.14941148]\n",
            " [0.99537766 0.94444444 0.84160977]\n",
            " [0.99548134 1.4137931  1.09996517]]\n"
          ]
        }
      ]
    },
    {
      "cell_type": "code",
      "source": [
        "import pandas as pd\n",
        "\n",
        "# Load CSV file\n",
        "df = pd.read_csv('/content/sales.csv')\n",
        "print(\"CSV File Loaded Successfully:\\n\")\n",
        "print(df.head())\n"
      ],
      "metadata": {
        "colab": {
          "base_uri": "https://localhost:8080/"
        },
        "id": "YCIyKCtCFS8M",
        "outputId": "e2307f88-1ce4-43bb-b458-28adcc729f14"
      },
      "execution_count": null,
      "outputs": [
        {
          "output_type": "stream",
          "name": "stdout",
          "text": [
            "CSV File Loaded Successfully:\n",
            "\n",
            "   ORDERNUMBER  QUANTITYORDERED  PRICEEACH  ORDERLINENUMBER    SALES  \\\n",
            "0      10107.0             30.0      95.70              2.0  2871.00   \n",
            "1      10121.0             34.0      81.35              5.0  2765.90   \n",
            "2      10134.0             41.0      94.74              2.0  3884.34   \n",
            "3      10145.0             45.0      83.26              6.0  3746.70   \n",
            "4      10168.0             36.0      96.66              1.0  3479.76   \n",
            "\n",
            "    ORDERDATE  DAYS_SINCE_LASTORDER   STATUS  PRODUCTLINE  MSRP PRODUCTCODE  \\\n",
            "0  24-02-2018                 828.0  Shipped  Motorcycles  95.0    S10_1678   \n",
            "1  07-05-2018                 757.0  Shipped  Motorcycles  95.0    S10_1678   \n",
            "2  01-07-2018                 703.0  Shipped  Motorcycles  95.0    S10_1678   \n",
            "3  25-08-2018                 649.0  Shipped  Motorcycles  95.0    S10_1678   \n",
            "4  28-10-2018                 586.0  Shipped  Motorcycles  95.0    S10_1678   \n",
            "\n",
            "           CUSTOMERNAME             PHONE                   ADDRESSLINE1  \\\n",
            "0     Land of Toys Inc.        2125557818        897 Long Airport Avenue   \n",
            "1    Reims Collectables        26.47.1555             59 rue de l'Abbaye   \n",
            "2       Lyon Souveniers  +33 1 46 62 7555  27 rue du Colonel Pierre Avia   \n",
            "3     Toys4GrownUps.com        6265557265             78934 Hillside Dr.   \n",
            "4  Technics Stores Inc.        6505556809              9408 Furth Circle   \n",
            "\n",
            "         CITY POSTALCODE COUNTRY CONTACTLASTNAME CONTACTFIRSTNAME DEALSIZE  \n",
            "0         NYC      10022     USA              Yu             Kwai    Small  \n",
            "1       Reims      51100  France         Henriot             Paul    Small  \n",
            "2       Paris      75508  France        Da Cunha           Daniel   Medium  \n",
            "3    Pasadena      90003     USA           Young            Julie   Medium  \n",
            "4  Burlingame      94217     USA          Hirano             Juri   Medium  \n"
          ]
        }
      ]
    },
    {
      "cell_type": "markdown",
      "source": [
        "Exp - 6"
      ],
      "metadata": {
        "id": "LAh7XccJBNpa"
      }
    },
    {
      "cell_type": "code",
      "source": [
        "import pandas as pd\n",
        "from sklearn.preprocessing import LabelEncoder, StandardScaler\n",
        "from sklearn.model_selection import train_test_split\n",
        "from sklearn.svm import SVC\n",
        "from sklearn.decomposition import PCA\n",
        "from sklearn.metrics import accuracy_score\n",
        "\n",
        "# Load the dataset\n",
        "df = pd.read_csv('/content/sales.csv')\n",
        "\n",
        "# Step 1: Drop rows with missing values\n",
        "df_clean = df.dropna()\n",
        "\n",
        "# Step 2: Encode categorical variables\n",
        "df_encoded = df_clean.copy()\n",
        "label_encoders = {}\n",
        "categorical_cols = df_encoded.select_dtypes(include='object').columns\n",
        "\n",
        "for col in categorical_cols:\n",
        "    le = LabelEncoder()\n",
        "    df_encoded[col] = le.fit_transform(df_encoded[col])\n",
        "    label_encoders[col] = le\n",
        "\n",
        "# Step 3: Drop unnecessary columns\n",
        "drop_cols = ['ORDERNUMBER', 'ORDERDATE', 'PRODUCTCODE', 'CUSTOMERNAME',\n",
        "             'PHONE', 'ADDRESSLINE1', 'CONTACTLASTNAME', 'CONTACTFIRSTNAME']\n",
        "df_features = df_encoded.drop(columns=drop_cols)\n",
        "\n",
        "# Step 4: Define features (X) and target (y)\n",
        "X = df_features.drop(columns=['DEALSIZE'])\n",
        "y = df_features['DEALSIZE']\n",
        "\n",
        "# Step 5: Standardize the features\n",
        "scaler = StandardScaler()\n",
        "X_scaled = scaler.fit_transform(X)\n",
        "\n",
        "# Step 6: Split the dataset\n",
        "X_train, X_test, y_train, y_test = train_test_split(X_scaled, y, test_size=0.2, random_state=42)\n",
        "\n",
        "# Step 7: Train and evaluate SVM without PCA\n",
        "svm = SVC()\n",
        "svm.fit(X_train, y_train)\n",
        "y_pred = svm.predict(X_test)\n",
        "accuracy_no_pca = accuracy_score(y_test, y_pred)\n",
        "\n",
        "# Step 8: Apply PCA (reduce to 2 components)\n",
        "pca = PCA(n_components=2)\n",
        "X_pca = pca.fit_transform(X_scaled)\n",
        "X_train_pca, X_test_pca, _, _ = train_test_split(X_pca, y, test_size=0.2, random_state=42)\n",
        "\n",
        "# Step 9: Train and evaluate SVM with PCA\n",
        "svm_pca = SVC()\n",
        "svm_pca.fit(X_train_pca, y_train)\n",
        "y_pred_pca = svm_pca.predict(X_test_pca)\n",
        "accuracy_pca = accuracy_score(y_test, y_pred_pca)\n",
        "\n",
        "# Step 10: Print accuracies\n",
        "print(\"Accuracy without PCA:\", accuracy_no_pca)\n",
        "print(\"Accuracy with PCA (2 components):\", accuracy_pca)\n"
      ],
      "metadata": {
        "colab": {
          "base_uri": "https://localhost:8080/"
        },
        "id": "dF6cpqksBURb",
        "outputId": "20ce806e-4753-476a-fdb7-19199f87f317"
      },
      "execution_count": null,
      "outputs": [
        {
          "output_type": "stream",
          "name": "stdout",
          "text": [
            "Accuracy without PCA: 0.9690909090909091\n",
            "Accuracy with PCA (2 components): 0.8581818181818182\n"
          ]
        }
      ]
    },
    {
      "cell_type": "code",
      "source": [
        "import pandas as pd\n",
        "from sklearn.preprocessing import LabelEncoder, StandardScaler\n",
        "from sklearn.model_selection import train_test_split\n",
        "from sklearn.svm import SVC\n",
        "from sklearn.decomposition import PCA\n",
        "from sklearn.metrics import accuracy_score\n",
        "\n",
        "# Load the dataset\n",
        "df = pd.read_csv('/content/sales.csv')\n",
        "\n",
        "# Drop rows with missing values\n",
        "df_clean = df.dropna()\n",
        "\n",
        "# Encode categorical variables\n",
        "df_encoded = df_clean.copy()\n",
        "label_encoders = {}\n",
        "categorical_cols = df_encoded.select_dtypes(include='object').columns\n",
        "\n",
        "for col in categorical_cols:\n",
        "    le = LabelEncoder()\n",
        "    df_encoded[col] = le.fit_transform(df_encoded[col])\n",
        "    label_encoders[col] = le\n",
        "\n",
        "# Drop non-informative or identifier columns\n",
        "drop_cols = ['ORDERNUMBER', 'ORDERDATE', 'PRODUCTCODE', 'CUSTOMERNAME',\n",
        "             'PHONE', 'ADDRESSLINE1', 'CONTACTLASTNAME', 'CONTACTFIRSTNAME']\n",
        "df_features = df_encoded.drop(columns=drop_cols)\n",
        "\n",
        "# Define features and target\n",
        "X = df_features.drop(columns=['DEALSIZE'])\n",
        "y = df_features['DEALSIZE']\n",
        "\n",
        "# Standardize features\n",
        "scaler = StandardScaler()\n",
        "X_scaled = scaler.fit_transform(X)\n",
        "\n",
        "# Split data\n",
        "X_train, X_test, y_train, y_test = train_test_split(X_scaled, y, test_size=0.2, random_state=42)\n",
        "\n",
        "# SVM without PCA\n",
        "svm = SVC()\n",
        "svm.fit(X_train, y_train)\n",
        "y_pred = svm.predict(X_test)\n",
        "accuracy_no_pca = accuracy_score(y_test, y_pred)\n",
        "\n",
        "# Apply PCA to reduce dimensions to 2\n",
        "pca = PCA(n_components=2)\n",
        "X_pca = pca.fit_transform(X_scaled)\n",
        "X_train_pca, X_test_pca, _, _ = train_test_split(X_pca, y, test_size=0.2, random_state=42)\n",
        "\n",
        "# SVM with PCA\n",
        "svm_pca = SVC()\n",
        "svm_pca.fit(X_train_pca, y_train)\n",
        "y_pred_pca = svm_pca.predict(X_test_pca)\n",
        "accuracy_pca = accuracy_score(y_test, y_pred_pca)\n",
        "\n",
        "# Print comparison\n",
        "print(\"Accuracy without PCA:\", round(accuracy_no_pca * 100, 2), \"%\")\n",
        "print(\"Accuracy with PCA (2 components):\", round(accuracy_pca * 100, 2), \"%\")\n"
      ],
      "metadata": {
        "colab": {
          "base_uri": "https://localhost:8080/"
        },
        "id": "6q9HHeQzBkrZ",
        "outputId": "633a1a39-f09c-4335-b224-370273e396ac"
      },
      "execution_count": null,
      "outputs": [
        {
          "output_type": "stream",
          "name": "stdout",
          "text": [
            "Accuracy without PCA: 96.91 %\n",
            "Accuracy with PCA (2 components): 85.82 %\n"
          ]
        }
      ]
    }
  ]
}